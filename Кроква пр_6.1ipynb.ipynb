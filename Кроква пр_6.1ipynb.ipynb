{
 "cells": [
  {
   "cell_type": "markdown",
   "metadata": {},
   "source": [
    "Кроква Михайло, 4-6 ФІТ, ВКР обрав"
   ]
  },
  {
   "cell_type": "code",
   "execution_count": 25,
   "metadata": {},
   "outputs": [],
   "source": [
    "from sklearn import datasets\n",
    "from sklearn.model_selection import train_test_split\n",
    "from sklearn.svm import SVC\n",
    "from sklearn.ensemble import RandomForestClassifier\n",
    "from sklearn.metrics import accuracy_score"
   ]
  },
  {
   "cell_type": "markdown",
   "metadata": {},
   "source": [
    "1.\tНабір даних Iris з бібліотеки scikit-learn."
   ]
  },
  {
   "cell_type": "code",
   "execution_count": 26,
   "metadata": {},
   "outputs": [],
   "source": [
    "iris = datasets.load_iris()\n",
    "X = iris.data\n",
    "y = iris.target"
   ]
  },
  {
   "cell_type": "markdown",
   "metadata": {},
   "source": [
    "2.\tРозділяємо дані на тренувальний та тестовий набори."
   ]
  },
  {
   "cell_type": "code",
   "execution_count": 27,
   "metadata": {},
   "outputs": [],
   "source": [
    "X_train, X_test, y_train, y_test = train_test_split(X, y, test_size=0.2, random_state=42)"
   ]
  },
  {
   "cell_type": "markdown",
   "metadata": {},
   "source": [
    "3.\tАлгоритм SVM для класифікації даних та визначити його точність."
   ]
  },
  {
   "cell_type": "code",
   "execution_count": 28,
   "metadata": {},
   "outputs": [
    {
     "data": {
      "text/plain": [
       "1.0"
      ]
     },
     "execution_count": 28,
     "metadata": {},
     "output_type": "execute_result"
    }
   ],
   "source": [
    "svm_cl = SVC(kernel='linear')\n",
    "svm_cl.fit(X_train, y_train)\n",
    "svm_pr = svm_cl.predict(X_test)\n",
    "svm_ac = accuracy_score(y_test, svm_pr)\n",
    "svm_ac"
   ]
  },
  {
   "cell_type": "markdown",
   "metadata": {},
   "source": [
    "4.\tЗастосувуємо Random Forest для класифікації даних та визначаємо його точність."
   ]
  },
  {
   "cell_type": "code",
   "execution_count": 29,
   "metadata": {},
   "outputs": [
    {
     "data": {
      "text/plain": [
       "1.0"
      ]
     },
     "execution_count": 29,
     "metadata": {},
     "output_type": "execute_result"
    }
   ],
   "source": [
    "rf_cl = RandomForestClassifier(n_estimators=100, random_state=42)\n",
    "rf_cl.fit(X_train, y_train)\n",
    "rf_pr = rf_cl.predict(X_test)\n",
    "rf_ac = accuracy_score(y_test, rf_pr)\n",
    "rf_ac"
   ]
  },
  {
   "cell_type": "markdown",
   "metadata": {},
   "source": [
    "5.\tПорівнюємо результати обох алгоритмів та обговорюємо їх ефективність."
   ]
  },
  {
   "cell_type": "code",
   "execution_count": 30,
   "metadata": {},
   "outputs": [
    {
     "name": "stdout",
     "output_type": "stream",
     "text": [
      "Обидва алгоритми мають однакову точність.\n"
     ]
    }
   ],
   "source": [
    "if svm_ac > rf_ac:\n",
    "    print('Алгоритм SVM є більш точним.')\n",
    "elif svm_ac < rf_ac:\n",
    "    print('Алгоритм Random Forest є більш точним.')\n",
    "else:\n",
    "    print('Обидва алгоритми мають однакову точність.')"
   ]
  },
  {
   "cell_type": "markdown",
   "metadata": {},
   "source": [
    "В ході практичної роботи я набув навичок застосування алгоритмів SVM та Random Forest, навчився визначати їх точність, також порівняв результати обох алгоритмів."
   ]
  }
 ],
 "metadata": {
  "kernelspec": {
   "display_name": "Python 3",
   "language": "python",
   "name": "python3"
  },
  "language_info": {
   "codemirror_mode": {
    "name": "ipython",
    "version": 3
   },
   "file_extension": ".py",
   "mimetype": "text/x-python",
   "name": "python",
   "nbconvert_exporter": "python",
   "pygments_lexer": "ipython3",
   "version": "3.11.2"
  }
 },
 "nbformat": 4,
 "nbformat_minor": 2
}
